{
 "cells": [
  {
   "cell_type": "markdown",
   "id": "8bf1bdab",
   "metadata": {},
   "source": [
    "# Do the following in the wine dataset.\n",
    "1. Read the dataset to the python environment.\n",
    "2. Try out different clustering models in the wine dataset.\n",
    "3. Find the optimum number of clusters in each model and create the model with the optimum number of clusters.\n"
   ]
  },
  {
   "cell_type": "code",
   "execution_count": 1,
   "id": "5517a373",
   "metadata": {},
   "outputs": [],
   "source": [
    "# Import the required libraries and load the dataset \n",
    "import pandas as pd\n",
    "import seaborn as sns\n",
    "import numpy as np\n",
    "import matplotlib.pyplot as plt\n",
    "Wine = pd.read_csv('Wine.csv')"
   ]
  },
  {
   "cell_type": "code",
   "execution_count": 2,
   "id": "31706e41",
   "metadata": {},
   "outputs": [
    {
     "name": "stdout",
     "output_type": "stream",
     "text": [
      "<class 'pandas.core.frame.DataFrame'>\n",
      "RangeIndex: 178 entries, 0 to 177\n",
      "Data columns (total 13 columns):\n",
      " #   Column                Non-Null Count  Dtype  \n",
      "---  ------                --------------  -----  \n",
      " 0   Alcohol               178 non-null    float64\n",
      " 1   Malic_Acid            178 non-null    float64\n",
      " 2   Ash                   178 non-null    float64\n",
      " 3   Ash_Alcanity          178 non-null    float64\n",
      " 4   Magnesium             178 non-null    int64  \n",
      " 5   Total_Phenols         178 non-null    float64\n",
      " 6   Flavanoids            178 non-null    float64\n",
      " 7   Nonflavanoid_Phenols  178 non-null    float64\n",
      " 8   Proanthocyanins       178 non-null    float64\n",
      " 9   Color_Intensity       178 non-null    float64\n",
      " 10  Hue                   178 non-null    float64\n",
      " 11  OD280                 178 non-null    float64\n",
      " 12  Proline               178 non-null    int64  \n",
      "dtypes: float64(11), int64(2)\n",
      "memory usage: 18.2 KB\n"
     ]
    }
   ],
   "source": [
    "Wine.info()"
   ]
  },
  {
   "cell_type": "code",
   "execution_count": 3,
   "id": "f2d8db16",
   "metadata": {},
   "outputs": [
    {
     "data": {
      "text/html": [
       "<div>\n",
       "<style scoped>\n",
       "    .dataframe tbody tr th:only-of-type {\n",
       "        vertical-align: middle;\n",
       "    }\n",
       "\n",
       "    .dataframe tbody tr th {\n",
       "        vertical-align: top;\n",
       "    }\n",
       "\n",
       "    .dataframe thead th {\n",
       "        text-align: right;\n",
       "    }\n",
       "</style>\n",
       "<table border=\"1\" class=\"dataframe\">\n",
       "  <thead>\n",
       "    <tr style=\"text-align: right;\">\n",
       "      <th></th>\n",
       "      <th>Alcohol</th>\n",
       "      <th>Malic_Acid</th>\n",
       "      <th>Ash</th>\n",
       "      <th>Ash_Alcanity</th>\n",
       "      <th>Magnesium</th>\n",
       "      <th>Total_Phenols</th>\n",
       "      <th>Flavanoids</th>\n",
       "      <th>Nonflavanoid_Phenols</th>\n",
       "      <th>Proanthocyanins</th>\n",
       "      <th>Color_Intensity</th>\n",
       "      <th>Hue</th>\n",
       "      <th>OD280</th>\n",
       "      <th>Proline</th>\n",
       "    </tr>\n",
       "  </thead>\n",
       "  <tbody>\n",
       "    <tr>\n",
       "      <th>0</th>\n",
       "      <td>14.23</td>\n",
       "      <td>1.71</td>\n",
       "      <td>2.43</td>\n",
       "      <td>15.6</td>\n",
       "      <td>127</td>\n",
       "      <td>2.80</td>\n",
       "      <td>3.06</td>\n",
       "      <td>0.28</td>\n",
       "      <td>2.29</td>\n",
       "      <td>5.64</td>\n",
       "      <td>1.04</td>\n",
       "      <td>3.92</td>\n",
       "      <td>1065</td>\n",
       "    </tr>\n",
       "    <tr>\n",
       "      <th>1</th>\n",
       "      <td>13.20</td>\n",
       "      <td>1.78</td>\n",
       "      <td>2.14</td>\n",
       "      <td>11.2</td>\n",
       "      <td>100</td>\n",
       "      <td>2.65</td>\n",
       "      <td>2.76</td>\n",
       "      <td>0.26</td>\n",
       "      <td>1.28</td>\n",
       "      <td>4.38</td>\n",
       "      <td>1.05</td>\n",
       "      <td>3.40</td>\n",
       "      <td>1050</td>\n",
       "    </tr>\n",
       "    <tr>\n",
       "      <th>2</th>\n",
       "      <td>13.16</td>\n",
       "      <td>2.36</td>\n",
       "      <td>2.67</td>\n",
       "      <td>18.6</td>\n",
       "      <td>101</td>\n",
       "      <td>2.80</td>\n",
       "      <td>3.24</td>\n",
       "      <td>0.30</td>\n",
       "      <td>2.81</td>\n",
       "      <td>5.68</td>\n",
       "      <td>1.03</td>\n",
       "      <td>3.17</td>\n",
       "      <td>1185</td>\n",
       "    </tr>\n",
       "    <tr>\n",
       "      <th>3</th>\n",
       "      <td>14.37</td>\n",
       "      <td>1.95</td>\n",
       "      <td>2.50</td>\n",
       "      <td>16.8</td>\n",
       "      <td>113</td>\n",
       "      <td>3.85</td>\n",
       "      <td>3.49</td>\n",
       "      <td>0.24</td>\n",
       "      <td>2.18</td>\n",
       "      <td>7.80</td>\n",
       "      <td>0.86</td>\n",
       "      <td>3.45</td>\n",
       "      <td>1480</td>\n",
       "    </tr>\n",
       "    <tr>\n",
       "      <th>4</th>\n",
       "      <td>13.24</td>\n",
       "      <td>2.59</td>\n",
       "      <td>2.87</td>\n",
       "      <td>21.0</td>\n",
       "      <td>118</td>\n",
       "      <td>2.80</td>\n",
       "      <td>2.69</td>\n",
       "      <td>0.39</td>\n",
       "      <td>1.82</td>\n",
       "      <td>4.32</td>\n",
       "      <td>1.04</td>\n",
       "      <td>2.93</td>\n",
       "      <td>735</td>\n",
       "    </tr>\n",
       "  </tbody>\n",
       "</table>\n",
       "</div>"
      ],
      "text/plain": [
       "   Alcohol  Malic_Acid   Ash  Ash_Alcanity  Magnesium  Total_Phenols  \\\n",
       "0    14.23        1.71  2.43          15.6        127           2.80   \n",
       "1    13.20        1.78  2.14          11.2        100           2.65   \n",
       "2    13.16        2.36  2.67          18.6        101           2.80   \n",
       "3    14.37        1.95  2.50          16.8        113           3.85   \n",
       "4    13.24        2.59  2.87          21.0        118           2.80   \n",
       "\n",
       "   Flavanoids  Nonflavanoid_Phenols  Proanthocyanins  Color_Intensity   Hue  \\\n",
       "0        3.06                  0.28             2.29             5.64  1.04   \n",
       "1        2.76                  0.26             1.28             4.38  1.05   \n",
       "2        3.24                  0.30             2.81             5.68  1.03   \n",
       "3        3.49                  0.24             2.18             7.80  0.86   \n",
       "4        2.69                  0.39             1.82             4.32  1.04   \n",
       "\n",
       "   OD280  Proline  \n",
       "0   3.92     1065  \n",
       "1   3.40     1050  \n",
       "2   3.17     1185  \n",
       "3   3.45     1480  \n",
       "4   2.93      735  "
      ]
     },
     "execution_count": 3,
     "metadata": {},
     "output_type": "execute_result"
    }
   ],
   "source": [
    "Wine.head()"
   ]
  },
  {
   "cell_type": "code",
   "execution_count": 4,
   "id": "ce8db7dd",
   "metadata": {},
   "outputs": [
    {
     "data": {
      "text/plain": [
       "Alcohol                 0\n",
       "Malic_Acid              0\n",
       "Ash                     0\n",
       "Ash_Alcanity            0\n",
       "Magnesium               0\n",
       "Total_Phenols           0\n",
       "Flavanoids              0\n",
       "Nonflavanoid_Phenols    0\n",
       "Proanthocyanins         0\n",
       "Color_Intensity         0\n",
       "Hue                     0\n",
       "OD280                   0\n",
       "Proline                 0\n",
       "dtype: int64"
      ]
     },
     "execution_count": 4,
     "metadata": {},
     "output_type": "execute_result"
    }
   ],
   "source": [
    "Wine.isnull().sum()"
   ]
  },
  {
   "cell_type": "code",
   "execution_count": null,
   "id": "669699a3",
   "metadata": {},
   "outputs": [],
   "source": [
    "# There are no null values in any of the columns"
   ]
  },
  {
   "cell_type": "code",
   "execution_count": 5,
   "id": "cb6669bc",
   "metadata": {},
   "outputs": [
    {
     "data": {
      "text/plain": [
       "0"
      ]
     },
     "execution_count": 5,
     "metadata": {},
     "output_type": "execute_result"
    }
   ],
   "source": [
    "Wine.duplicated().sum()"
   ]
  },
  {
   "cell_type": "code",
   "execution_count": null,
   "id": "7975bbfe",
   "metadata": {},
   "outputs": [],
   "source": [
    "# There are no duplicated rows"
   ]
  },
  {
   "cell_type": "code",
   "execution_count": 6,
   "id": "9e43e810",
   "metadata": {},
   "outputs": [
    {
     "name": "stderr",
     "output_type": "stream",
     "text": [
      "C:\\Users\\silpa\\anaconda3\\lib\\site-packages\\seaborn\\_decorators.py:36: FutureWarning: Pass the following variable as a keyword arg: x. From version 0.12, the only valid positional argument will be `data`, and passing other arguments without an explicit keyword will result in an error or misinterpretation.\n",
      "  warnings.warn(\n",
      "C:\\Users\\silpa\\anaconda3\\lib\\site-packages\\seaborn\\_decorators.py:36: FutureWarning: Pass the following variable as a keyword arg: x. From version 0.12, the only valid positional argument will be `data`, and passing other arguments without an explicit keyword will result in an error or misinterpretation.\n",
      "  warnings.warn(\n",
      "C:\\Users\\silpa\\anaconda3\\lib\\site-packages\\seaborn\\_decorators.py:36: FutureWarning: Pass the following variable as a keyword arg: x. From version 0.12, the only valid positional argument will be `data`, and passing other arguments without an explicit keyword will result in an error or misinterpretation.\n",
      "  warnings.warn(\n",
      "C:\\Users\\silpa\\anaconda3\\lib\\site-packages\\seaborn\\_decorators.py:36: FutureWarning: Pass the following variable as a keyword arg: x. From version 0.12, the only valid positional argument will be `data`, and passing other arguments without an explicit keyword will result in an error or misinterpretation.\n",
      "  warnings.warn(\n",
      "C:\\Users\\silpa\\anaconda3\\lib\\site-packages\\seaborn\\_decorators.py:36: FutureWarning: Pass the following variable as a keyword arg: x. From version 0.12, the only valid positional argument will be `data`, and passing other arguments without an explicit keyword will result in an error or misinterpretation.\n",
      "  warnings.warn(\n",
      "C:\\Users\\silpa\\anaconda3\\lib\\site-packages\\seaborn\\_decorators.py:36: FutureWarning: Pass the following variable as a keyword arg: x. From version 0.12, the only valid positional argument will be `data`, and passing other arguments without an explicit keyword will result in an error or misinterpretation.\n",
      "  warnings.warn(\n",
      "C:\\Users\\silpa\\anaconda3\\lib\\site-packages\\seaborn\\_decorators.py:36: FutureWarning: Pass the following variable as a keyword arg: x. From version 0.12, the only valid positional argument will be `data`, and passing other arguments without an explicit keyword will result in an error or misinterpretation.\n",
      "  warnings.warn(\n",
      "C:\\Users\\silpa\\anaconda3\\lib\\site-packages\\seaborn\\_decorators.py:36: FutureWarning: Pass the following variable as a keyword arg: x. From version 0.12, the only valid positional argument will be `data`, and passing other arguments without an explicit keyword will result in an error or misinterpretation.\n",
      "  warnings.warn(\n",
      "C:\\Users\\silpa\\anaconda3\\lib\\site-packages\\seaborn\\_decorators.py:36: FutureWarning: Pass the following variable as a keyword arg: x. From version 0.12, the only valid positional argument will be `data`, and passing other arguments without an explicit keyword will result in an error or misinterpretation.\n",
      "  warnings.warn(\n",
      "C:\\Users\\silpa\\anaconda3\\lib\\site-packages\\seaborn\\_decorators.py:36: FutureWarning: Pass the following variable as a keyword arg: x. From version 0.12, the only valid positional argument will be `data`, and passing other arguments without an explicit keyword will result in an error or misinterpretation.\n",
      "  warnings.warn(\n",
      "C:\\Users\\silpa\\anaconda3\\lib\\site-packages\\seaborn\\_decorators.py:36: FutureWarning: Pass the following variable as a keyword arg: x. From version 0.12, the only valid positional argument will be `data`, and passing other arguments without an explicit keyword will result in an error or misinterpretation.\n",
      "  warnings.warn(\n",
      "C:\\Users\\silpa\\anaconda3\\lib\\site-packages\\seaborn\\_decorators.py:36: FutureWarning: Pass the following variable as a keyword arg: x. From version 0.12, the only valid positional argument will be `data`, and passing other arguments without an explicit keyword will result in an error or misinterpretation.\n",
      "  warnings.warn(\n"
     ]
    },
    {
     "data": {
      "image/png": "[encoded data removed]",
      "text/plain": [
       "<Figure size 720x720 with 12 Axes>"
      ]
     },
     "metadata": {
      "needs_background": "light"
     },
     "output_type": "display_data"
    }
   ],
   "source": [
    "# Box plots for the columns to detect outliers\n",
    "rows=4\n",
    "cols=3\n",
    "fig,ax=plt.subplots(nrows=rows,ncols=cols,figsize=(10,10))\n",
    "col=Wine.columns\n",
    "index=0\n",
    "for i in range(rows):\n",
    "    for j in range(cols):\n",
    "        sns.boxplot(Wine[col[index]],ax=ax[i][j])\n",
    "        index=index+1\n",
    "plt.tight_layout()\n",
    "plt.show()"
   ]
  },
  {
   "cell_type": "markdown",
   "id": "54e37517",
   "metadata": {},
   "source": [
    "It is clear that the variables  Malic acid, Ash, Alcalinity of Ash,Magnesium, Proanthocyanins,Color intensity and \n",
    "Hue have outliers\n",
    "\n",
    "But since the number of rows in the data is very low (178 ) , we better not remove the outliers for every column\n",
    "\n",
    "The significant number of outliers exist for only the variables \"Magnesium\", \"Proanthocyanins\" & \"Color_Intensity\" . Let's remove the values that fall outside 15-75 percentile of the normal range"
   ]
  },
  {
   "cell_type": "code",
   "execution_count": 10,
   "id": "80f014e5",
   "metadata": {},
   "outputs": [],
   "source": [
    "# function for removing outliers falling outside the normal range\n",
    "def remove_outliers(dataframe, column):\n",
    "  q3 = dataframe[column].quantile(0.75)\n",
    "  q1 = dataframe[column].quantile(0.15)\n",
    "  IQR = q3 - q1\n",
    "  upper = q3 + (1.5 * IQR)\n",
    "  lower = q1 - (1.5 * IQR)\n",
    "  dataframe = dataframe[(dataframe[column] > lower ) & (dataframe[column] < upper)]\n",
    "  return dataframe"
   ]
  },
  {
   "cell_type": "code",
   "execution_count": 12,
   "id": "7df7f600",
   "metadata": {},
   "outputs": [],
   "source": [
    "# Remove the outlier values for \"Magnesium\", \"Proanthocyanins\" & \"Color_Intensity\"\n",
    "Wine = remove_outliers(Wine,'Magnesium')\n",
    "Wine = remove_outliers(Wine,'Proanthocyanins')\n",
    "Wine = remove_outliers(Wine,'Color_Intensity')\n"
   ]
  },
  {
   "cell_type": "code",
   "execution_count": 13,
   "id": "1119e24a",
   "metadata": {},
   "outputs": [
    {
     "name": "stdout",
     "output_type": "stream",
     "text": [
      "<class 'pandas.core.frame.DataFrame'>\n",
      "Int64Index: 172 entries, 0 to 177\n",
      "Data columns (total 13 columns):\n",
      " #   Column                Non-Null Count  Dtype  \n",
      "---  ------                --------------  -----  \n",
      " 0   Alcohol               172 non-null    float64\n",
      " 1   Malic_Acid            172 non-null    float64\n",
      " 2   Ash                   172 non-null    float64\n",
      " 3   Ash_Alcanity          172 non-null    float64\n",
      " 4   Magnesium             172 non-null    int64  \n",
      " 5   Total_Phenols         172 non-null    float64\n",
      " 6   Flavanoids            172 non-null    float64\n",
      " 7   Nonflavanoid_Phenols  172 non-null    float64\n",
      " 8   Proanthocyanins       172 non-null    float64\n",
      " 9   Color_Intensity       172 non-null    float64\n",
      " 10  Hue                   172 non-null    float64\n",
      " 11  OD280                 172 non-null    float64\n",
      " 12  Proline               172 non-null    int64  \n",
      "dtypes: float64(11), int64(2)\n",
      "memory usage: 18.8 KB\n"
     ]
    }
   ],
   "source": [
    "Wine.info()"
   ]
  },
  {
   "cell_type": "code",
   "execution_count": 15,
   "id": "cc6a3af5",
   "metadata": {
    "scrolled": true
   },
   "outputs": [
    {
     "data": {
      "text/plain": [
       "<AxesSubplot:>"
      ]
     },
     "execution_count": 15,
     "metadata": {},
     "output_type": "execute_result"
    },
    {
     "data": {
      "image/png": "[encoded data removed]",
      "text/plain": [
       "<Figure size 1152x576 with 1 Axes>"
      ]
     },
     "metadata": {},
     "output_type": "display_data"
    }
   ],
   "source": [
    "from sklearn.preprocessing import MinMaxScaler\n",
    "scaler = MinMaxScaler() \n",
    "scaled_values = scaler.fit_transform(Wine) \n",
    "Wine.loc[:,:] = scaled_values\n",
    "\n",
    "sns.set(rc={'figure.figsize':(16,8)}, font_scale=0.9, style='whitegrid')\n",
    "Wine.boxplot(widths = 0.9)"
   ]
  },
  {
   "cell_type": "markdown",
   "id": "54e36883",
   "metadata": {},
   "source": [
    "After applying min max scaling the number of outliers have reduced as seen above"
   ]
  },
  {
   "cell_type": "code",
   "execution_count": null,
   "id": "de5a6986",
   "metadata": {},
   "outputs": [],
   "source": []
  },
  {
   "cell_type": "code",
   "execution_count": 16,
   "id": "cb22defb",
   "metadata": {},
   "outputs": [],
   "source": [
    "# Apply standard scaling\n",
    "\n",
    "from sklearn.preprocessing import StandardScaler\n",
    "stdsc = StandardScaler()\n",
    "X_train_std = stdsc.fit_transform(Wine)\n"
   ]
  },
  {
   "cell_type": "code",
   "execution_count": 18,
   "id": "92a183bf",
   "metadata": {},
   "outputs": [],
   "source": [
    "import sklearn\n",
    "from sklearn.cluster import KMeans\n",
    "from sklearn.cluster import MeanShift\n",
    "from sklearn.cluster import AgglomerativeClustering\n",
    "from sklearn.cluster import SpectralClustering\n",
    "from sklearn.cluster import AffinityPropagation\n",
    "from sklearn.metrics import silhouette_score"
   ]
  },
  {
   "cell_type": "markdown",
   "id": "a4d3bca6",
   "metadata": {},
   "source": [
    "# K Means Clustering"
   ]
  },
  {
   "cell_type": "code",
   "execution_count": 19,
   "id": "812bb0eb",
   "metadata": {},
   "outputs": [
    {
     "name": "stdout",
     "output_type": "stream",
     "text": [
      "[0.2647605150642875, 0.29395722763329707, 0.25193893198614015, 0.21447737669364916, 0.1678067547674413, 0.15313511407242617, 0.14118196589321935, 0.14268088212523622, 0.13177843450215576]\n"
     ]
    }
   ],
   "source": [
    "# K Means Clustering\n",
    "\n",
    "n_clusters = [2,3,4,5,6,7,8,9,10] # number of clusters\n",
    "clusters_inertia = [] # inertia of clusters\n",
    "kmeans_sil_score = [] # silhouette scores\n",
    "\n",
    "for n in n_clusters:\n",
    "    kmeans = KMeans(n_clusters=n, init='k-means++').fit(X_train_std)\n",
    "    clusters_inertia.append(kmeans.inertia_)    # data for the elbow method\n",
    "    silhouette_avg = silhouette_score(X_train_std, kmeans.labels_)\n",
    "    kmeans_sil_score.append(silhouette_avg) # data for the silhouette score method\n",
    "\n",
    "print(kmeans_sil_score)"
   ]
  },
  {
   "cell_type": "code",
   "execution_count": 21,
   "id": "14c03fd6",
   "metadata": {},
   "outputs": [
    {
     "name": "stderr",
     "output_type": "stream",
     "text": [
      "C:\\Users\\silpa\\anaconda3\\lib\\site-packages\\seaborn\\_decorators.py:36: FutureWarning: Pass the following variables as keyword args: x, y. From version 0.12, the only valid positional argument will be `data`, and passing other arguments without an explicit keyword will result in an error or misinterpretation.\n",
      "  warnings.warn(\n"
     ]
    },
    {
     "data": {
      "image/png": "[encoded data removed]",
      "text/plain": [
       "<Figure size 864x360 with 1 Axes>"
      ]
     },
     "metadata": {},
     "output_type": "display_data"
    },
    {
     "name": "stdout",
     "output_type": "stream",
     "text": [
      "\n",
      "\n",
      "No clear \"elbow\" visible. A choice of 3 or 4 clusters seems to be fair. Lets see the silhouette score.\n"
     ]
    }
   ],
   "source": [
    "# Elbow plot for KMeans\n",
    "fig, ax = plt.subplots(figsize=(12,5))\n",
    "ax = sns.lineplot(n_clusters, clusters_inertia, marker='o', ax=ax, linewidth=2, color='#6A51A3')\n",
    "ax.set_title(\"Elbow Plot\")\n",
    "ax.set_xlabel(\"K = num_cluster\")\n",
    "ax.set_ylabel(\"Sum Square Error = clusters inertia\")\n",
    "ax.axvline(3, ls=\"--\", c=\"red\")\n",
    "ax.axvline(4, ls=\"--\", c=\"red\")\n",
    "plt.grid()\n",
    "plt.show()\n",
    "\n",
    "print('\\n')\n",
    "print('No clear \"elbow\" visible. A choice of 3 or 4 clusters seems to be fair. Lets see the silhouette score.')"
   ]
  },
  {
   "cell_type": "code",
   "execution_count": 22,
   "id": "83e1ce4a",
   "metadata": {},
   "outputs": [
    {
     "name": "stderr",
     "output_type": "stream",
     "text": [
      "C:\\Users\\silpa\\anaconda3\\lib\\site-packages\\seaborn\\_decorators.py:36: FutureWarning: Pass the following variables as keyword args: x, y. From version 0.12, the only valid positional argument will be `data`, and passing other arguments without an explicit keyword will result in an error or misinterpretation.\n",
      "  warnings.warn(\n"
     ]
    },
    {
     "data": {
      "image/png": "[encoded data removed]",
      "text/plain": [
       "<Figure size 864x360 with 1 Axes>"
      ]
     },
     "metadata": {},
     "output_type": "display_data"
    }
   ],
   "source": [
    "fig, ax = plt.subplots(figsize=(12,5))\n",
    "ax = sns.lineplot(n_clusters, kmeans_sil_score, marker='o', ax=ax)\n",
    "ax.set_title(\"Silhouette score method\")\n",
    "ax.set_xlabel(\"number of clusters\")\n",
    "ax.set_ylabel(\"Silhouette score\")\n",
    "ax.axvline(3, ls=\"--\", c=\"red\")\n",
    "plt.grid()\n",
    "plt.show()"
   ]
  },
  {
   "cell_type": "code",
   "execution_count": 27,
   "id": "3092a2c2",
   "metadata": {},
   "outputs": [
    {
     "name": "stderr",
     "output_type": "stream",
     "text": [
      "C:\\Users\\silpa\\anaconda3\\lib\\site-packages\\seaborn\\_decorators.py:36: FutureWarning: Pass the following variables as keyword args: x, y. From version 0.12, the only valid positional argument will be `data`, and passing other arguments without an explicit keyword will result in an error or misinterpretation.\n",
      "  warnings.warn(\n",
      "C:\\Users\\silpa\\anaconda3\\lib\\site-packages\\seaborn\\_decorators.py:36: FutureWarning: Pass the following variables as keyword args: x, y. From version 0.12, the only valid positional argument will be `data`, and passing other arguments without an explicit keyword will result in an error or misinterpretation.\n",
      "  warnings.warn(\n"
     ]
    },
    {
     "data": {
      "image/png": "[encoded data removed]",
      "text/plain": [
       "<Figure size 864x360 with 2 Axes>"
      ]
     },
     "metadata": {},
     "output_type": "display_data"
    }
   ],
   "source": [
    "KM_3_clusters = KMeans(n_clusters=3 , init='k-means++').fit(Wine) # initialise and fit K-Means model\n",
    "\n",
    "KM3_clustered = Wine.copy()\n",
    "KM3_clustered.loc[:,'Cluster'] = KM_3_clusters.labels_ # append labels to points\n",
    "fig1, (axes) = plt.subplots(1,2,figsize=(12,5))\n",
    "\n",
    "\n",
    "scat_1 = sns.scatterplot('Alcohol', 'Proanthocyanins', data=KM3_clustered,\n",
    "                hue='Cluster', ax=axes[0], palette='Set1', legend='full')\n",
    "\n",
    "sns.scatterplot('Malic_Acid', 'Proanthocyanins', data=KM3_clustered,\n",
    "                hue='Cluster', palette='Set1', ax=axes[1], legend='full')\n",
    "\n",
    "axes[0].scatter(KM_3_clusters.cluster_centers_[:,1],KM_3_clusters.cluster_centers_[:,2], marker='s', s=40, c=\"blue\")\n",
    "axes[1].scatter(KM_3_clusters.cluster_centers_[:,0],KM_3_clusters.cluster_centers_[:,2], marker='s', s=40, c=\"blue\")\n",
    "plt.show()"
   ]
  },
  {
   "cell_type": "code",
   "execution_count": 26,
   "id": "496912e6",
   "metadata": {},
   "outputs": [
    {
     "name": "stderr",
     "output_type": "stream",
     "text": [
      "C:\\Users\\silpa\\anaconda3\\lib\\site-packages\\seaborn\\_decorators.py:36: FutureWarning: Pass the following variables as keyword args: x, y. From version 0.12, the only valid positional argument will be `data`, and passing other arguments without an explicit keyword will result in an error or misinterpretation.\n",
      "  warnings.warn(\n",
      "C:\\Users\\silpa\\anaconda3\\lib\\site-packages\\seaborn\\_decorators.py:36: FutureWarning: Pass the following variables as keyword args: x, y. From version 0.12, the only valid positional argument will be `data`, and passing other arguments without an explicit keyword will result in an error or misinterpretation.\n",
      "  warnings.warn(\n"
     ]
    },
    {
     "data": {
      "image/png": "[encoded data removed]",
      "text/plain": [
       "<Figure size 864x360 with 2 Axes>"
      ]
     },
     "metadata": {},
     "output_type": "display_data"
    }
   ],
   "source": [
    "KM_4_clusters = KMeans(n_clusters=4 , init='k-means++').fit(Wine) # initialise and fit K-Means model\n",
    "\n",
    "KM4_clustered = Wine.copy()\n",
    "KM4_clustered.loc[:,'Cluster'] = KM_4_clusters.labels_ # append labels to points\n",
    "fig1, (axes) = plt.subplots(1,2,figsize=(12,5))\n",
    "\n",
    "\n",
    "scat_1 = sns.scatterplot('Alcohol', 'Proanthocyanins', data=KM4_clustered,\n",
    "                hue='Cluster', ax=axes[0], palette='Set1', legend='full')\n",
    "\n",
    "sns.scatterplot('Malic_Acid', 'Proanthocyanins', data=KM4_clustered,\n",
    "                hue='Cluster', palette='Set1', ax=axes[1], legend='full')\n",
    "\n",
    "axes[0].scatter(KM_4_clusters.cluster_centers_[:,1],KM_4_clusters.cluster_centers_[:,2], marker='s', s=40, c=\"blue\")\n",
    "axes[1].scatter(KM_4_clusters.cluster_centers_[:,0],KM_4_clusters.cluster_centers_[:,2], marker='s', s=40, c=\"blue\")\n",
    "plt.show()"
   ]
  },
  {
   "cell_type": "markdown",
   "id": "20bc9232",
   "metadata": {},
   "source": [
    "# In comparison - The cluster value '3' looks more apt and organized "
   ]
  },
  {
   "cell_type": "code",
   "execution_count": 28,
   "id": "593d7691",
   "metadata": {},
   "outputs": [
    {
     "data": {
      "text/plain": [
       "50.05074026017976"
      ]
     },
     "execution_count": 28,
     "metadata": {},
     "output_type": "execute_result"
    }
   ],
   "source": [
    "KM_3_clusters.inertia_"
   ]
  },
  {
   "cell_type": "code",
   "execution_count": 30,
   "id": "3762012b",
   "metadata": {},
   "outputs": [
    {
     "data": {
      "text/html": [
       "<div>\n",
       "<style scoped>\n",
       "    .dataframe tbody tr th:only-of-type {\n",
       "        vertical-align: middle;\n",
       "    }\n",
       "\n",
       "    .dataframe tbody tr th {\n",
       "        vertical-align: top;\n",
       "    }\n",
       "\n",
       "    .dataframe thead th {\n",
       "        text-align: right;\n",
       "    }\n",
       "</style>\n",
       "<table border=\"1\" class=\"dataframe\">\n",
       "  <thead>\n",
       "    <tr style=\"text-align: right;\">\n",
       "      <th></th>\n",
       "      <th>KM_size = 3</th>\n",
       "    </tr>\n",
       "    <tr>\n",
       "      <th>Cluster</th>\n",
       "      <th></th>\n",
       "    </tr>\n",
       "  </thead>\n",
       "  <tbody>\n",
       "    <tr>\n",
       "      <th>0</th>\n",
       "      <td>59</td>\n",
       "    </tr>\n",
       "    <tr>\n",
       "      <th>1</th>\n",
       "      <td>52</td>\n",
       "    </tr>\n",
       "    <tr>\n",
       "      <th>2</th>\n",
       "      <td>61</td>\n",
       "    </tr>\n",
       "  </tbody>\n",
       "</table>\n",
       "</div>"
      ],
      "text/plain": [
       "         KM_size = 3\n",
       "Cluster             \n",
       "0                 59\n",
       "1                 52\n",
       "2                 61"
      ]
     },
     "execution_count": 30,
     "metadata": {},
     "output_type": "execute_result"
    }
   ],
   "source": [
    "KM_clust_sizes = KM3_clustered.groupby('Cluster').size().to_frame()\n",
    "KM_clust_sizes.columns = [\"KM_size = 3\"]\n",
    "KM_clust_sizes"
   ]
  },
  {
   "cell_type": "code",
   "execution_count": 32,
   "id": "18d5da51",
   "metadata": {},
   "outputs": [
    {
     "data": {
      "text/html": [
       "<div>\n",
       "<style scoped>\n",
       "    .dataframe tbody tr th:only-of-type {\n",
       "        vertical-align: middle;\n",
       "    }\n",
       "\n",
       "    .dataframe tbody tr th {\n",
       "        vertical-align: top;\n",
       "    }\n",
       "\n",
       "    .dataframe thead th {\n",
       "        text-align: right;\n",
       "    }\n",
       "</style>\n",
       "<table border=\"1\" class=\"dataframe\">\n",
       "  <thead>\n",
       "    <tr style=\"text-align: right;\">\n",
       "      <th></th>\n",
       "      <th>Alcohol</th>\n",
       "      <th>Malic_Acid</th>\n",
       "      <th>Ash</th>\n",
       "      <th>Ash_Alcanity</th>\n",
       "      <th>Magnesium</th>\n",
       "      <th>Total_Phenols</th>\n",
       "      <th>Flavanoids</th>\n",
       "      <th>Nonflavanoid_Phenols</th>\n",
       "      <th>Proanthocyanins</th>\n",
       "      <th>Color_Intensity</th>\n",
       "      <th>Hue</th>\n",
       "      <th>OD280</th>\n",
       "      <th>Proline</th>\n",
       "      <th>Cluster</th>\n",
       "    </tr>\n",
       "  </thead>\n",
       "  <tbody>\n",
       "    <tr>\n",
       "      <th>0</th>\n",
       "      <td>0.842105</td>\n",
       "      <td>0.191700</td>\n",
       "      <td>0.572193</td>\n",
       "      <td>0.279330</td>\n",
       "      <td>0.863636</td>\n",
       "      <td>0.627586</td>\n",
       "      <td>0.573840</td>\n",
       "      <td>0.283019</td>\n",
       "      <td>0.737255</td>\n",
       "      <td>0.457983</td>\n",
       "      <td>0.455285</td>\n",
       "      <td>0.970696</td>\n",
       "      <td>0.561341</td>\n",
       "      <td>0</td>\n",
       "    </tr>\n",
       "    <tr>\n",
       "      <th>1</th>\n",
       "      <td>0.571053</td>\n",
       "      <td>0.205534</td>\n",
       "      <td>0.417112</td>\n",
       "      <td>0.033520</td>\n",
       "      <td>0.454545</td>\n",
       "      <td>0.575862</td>\n",
       "      <td>0.510549</td>\n",
       "      <td>0.245283</td>\n",
       "      <td>0.341176</td>\n",
       "      <td>0.325630</td>\n",
       "      <td>0.463415</td>\n",
       "      <td>0.780220</td>\n",
       "      <td>0.550642</td>\n",
       "      <td>0</td>\n",
       "    </tr>\n",
       "    <tr>\n",
       "      <th>2</th>\n",
       "      <td>0.560526</td>\n",
       "      <td>0.320158</td>\n",
       "      <td>0.700535</td>\n",
       "      <td>0.446927</td>\n",
       "      <td>0.469697</td>\n",
       "      <td>0.627586</td>\n",
       "      <td>0.611814</td>\n",
       "      <td>0.320755</td>\n",
       "      <td>0.941176</td>\n",
       "      <td>0.462185</td>\n",
       "      <td>0.447154</td>\n",
       "      <td>0.695971</td>\n",
       "      <td>0.646933</td>\n",
       "      <td>0</td>\n",
       "    </tr>\n",
       "    <tr>\n",
       "      <th>3</th>\n",
       "      <td>0.878947</td>\n",
       "      <td>0.239130</td>\n",
       "      <td>0.609626</td>\n",
       "      <td>0.346369</td>\n",
       "      <td>0.651515</td>\n",
       "      <td>0.989655</td>\n",
       "      <td>0.664557</td>\n",
       "      <td>0.207547</td>\n",
       "      <td>0.694118</td>\n",
       "      <td>0.684874</td>\n",
       "      <td>0.308943</td>\n",
       "      <td>0.798535</td>\n",
       "      <td>0.857347</td>\n",
       "      <td>0</td>\n",
       "    </tr>\n",
       "    <tr>\n",
       "      <th>4</th>\n",
       "      <td>0.581579</td>\n",
       "      <td>0.365613</td>\n",
       "      <td>0.807487</td>\n",
       "      <td>0.581006</td>\n",
       "      <td>0.727273</td>\n",
       "      <td>0.627586</td>\n",
       "      <td>0.495781</td>\n",
       "      <td>0.490566</td>\n",
       "      <td>0.552941</td>\n",
       "      <td>0.319328</td>\n",
       "      <td>0.455285</td>\n",
       "      <td>0.608059</td>\n",
       "      <td>0.325963</td>\n",
       "      <td>0</td>\n",
       "    </tr>\n",
       "    <tr>\n",
       "      <th>...</th>\n",
       "      <td>...</td>\n",
       "      <td>...</td>\n",
       "      <td>...</td>\n",
       "      <td>...</td>\n",
       "      <td>...</td>\n",
       "      <td>...</td>\n",
       "      <td>...</td>\n",
       "      <td>...</td>\n",
       "      <td>...</td>\n",
       "      <td>...</td>\n",
       "      <td>...</td>\n",
       "      <td>...</td>\n",
       "      <td>...</td>\n",
       "      <td>...</td>\n",
       "    </tr>\n",
       "    <tr>\n",
       "      <th>173</th>\n",
       "      <td>0.705263</td>\n",
       "      <td>0.970356</td>\n",
       "      <td>0.582888</td>\n",
       "      <td>0.553073</td>\n",
       "      <td>0.378788</td>\n",
       "      <td>0.241379</td>\n",
       "      <td>0.056962</td>\n",
       "      <td>0.735849</td>\n",
       "      <td>0.254902</td>\n",
       "      <td>0.674370</td>\n",
       "      <td>0.130081</td>\n",
       "      <td>0.172161</td>\n",
       "      <td>0.329529</td>\n",
       "      <td>1</td>\n",
       "    </tr>\n",
       "    <tr>\n",
       "      <th>174</th>\n",
       "      <td>0.623684</td>\n",
       "      <td>0.626482</td>\n",
       "      <td>0.598930</td>\n",
       "      <td>0.692737</td>\n",
       "      <td>0.484848</td>\n",
       "      <td>0.282759</td>\n",
       "      <td>0.086498</td>\n",
       "      <td>0.566038</td>\n",
       "      <td>0.392157</td>\n",
       "      <td>0.632353</td>\n",
       "      <td>0.178862</td>\n",
       "      <td>0.106227</td>\n",
       "      <td>0.336662</td>\n",
       "      <td>1</td>\n",
       "    </tr>\n",
       "    <tr>\n",
       "      <th>175</th>\n",
       "      <td>0.589474</td>\n",
       "      <td>0.699605</td>\n",
       "      <td>0.481283</td>\n",
       "      <td>0.525140</td>\n",
       "      <td>0.757576</td>\n",
       "      <td>0.210345</td>\n",
       "      <td>0.073840</td>\n",
       "      <td>0.566038</td>\n",
       "      <td>0.368627</td>\n",
       "      <td>0.936975</td>\n",
       "      <td>0.089431</td>\n",
       "      <td>0.106227</td>\n",
       "      <td>0.397290</td>\n",
       "      <td>1</td>\n",
       "    </tr>\n",
       "    <tr>\n",
       "      <th>176</th>\n",
       "      <td>0.563158</td>\n",
       "      <td>0.365613</td>\n",
       "      <td>0.540107</td>\n",
       "      <td>0.525140</td>\n",
       "      <td>0.757576</td>\n",
       "      <td>0.231034</td>\n",
       "      <td>0.071730</td>\n",
       "      <td>0.754717</td>\n",
       "      <td>0.411765</td>\n",
       "      <td>0.842437</td>\n",
       "      <td>0.097561</td>\n",
       "      <td>0.128205</td>\n",
       "      <td>0.400856</td>\n",
       "      <td>1</td>\n",
       "    </tr>\n",
       "    <tr>\n",
       "      <th>177</th>\n",
       "      <td>0.815789</td>\n",
       "      <td>0.664032</td>\n",
       "      <td>0.737968</td>\n",
       "      <td>0.776536</td>\n",
       "      <td>0.393939</td>\n",
       "      <td>0.368966</td>\n",
       "      <td>0.088608</td>\n",
       "      <td>0.811321</td>\n",
       "      <td>0.368627</td>\n",
       "      <td>0.831933</td>\n",
       "      <td>0.105691</td>\n",
       "      <td>0.120879</td>\n",
       "      <td>0.201141</td>\n",
       "      <td>1</td>\n",
       "    </tr>\n",
       "  </tbody>\n",
       "</table>\n",
       "<p>172 rows × 14 columns</p>\n",
       "</div>"
      ],
      "text/plain": [
       "      Alcohol  Malic_Acid       Ash  Ash_Alcanity  Magnesium  Total_Phenols  \\\n",
       "0    0.842105    0.191700  0.572193      0.279330   0.863636       0.627586   \n",
       "1    0.571053    0.205534  0.417112      0.033520   0.454545       0.575862   \n",
       "2    0.560526    0.320158  0.700535      0.446927   0.469697       0.627586   \n",
       "3    0.878947    0.239130  0.609626      0.346369   0.651515       0.989655   \n",
       "4    0.581579    0.365613  0.807487      0.581006   0.727273       0.627586   \n",
       "..        ...         ...       ...           ...        ...            ...   \n",
       "173  0.705263    0.970356  0.582888      0.553073   0.378788       0.241379   \n",
       "174  0.623684    0.626482  0.598930      0.692737   0.484848       0.282759   \n",
       "175  0.589474    0.699605  0.481283      0.525140   0.757576       0.210345   \n",
       "176  0.563158    0.365613  0.540107      0.525140   0.757576       0.231034   \n",
       "177  0.815789    0.664032  0.737968      0.776536   0.393939       0.368966   \n",
       "\n",
       "     Flavanoids  Nonflavanoid_Phenols  Proanthocyanins  Color_Intensity  \\\n",
       "0      0.573840              0.283019         0.737255         0.457983   \n",
       "1      0.510549              0.245283         0.341176         0.325630   \n",
       "2      0.611814              0.320755         0.941176         0.462185   \n",
       "3      0.664557              0.207547         0.694118         0.684874   \n",
       "4      0.495781              0.490566         0.552941         0.319328   \n",
       "..          ...                   ...              ...              ...   \n",
       "173    0.056962              0.735849         0.254902         0.674370   \n",
       "174    0.086498              0.566038         0.392157         0.632353   \n",
       "175    0.073840              0.566038         0.368627         0.936975   \n",
       "176    0.071730              0.754717         0.411765         0.842437   \n",
       "177    0.088608              0.811321         0.368627         0.831933   \n",
       "\n",
       "          Hue     OD280   Proline  Cluster  \n",
       "0    0.455285  0.970696  0.561341        0  \n",
       "1    0.463415  0.780220  0.550642        0  \n",
       "2    0.447154  0.695971  0.646933        0  \n",
       "3    0.308943  0.798535  0.857347        0  \n",
       "4    0.455285  0.608059  0.325963        0  \n",
       "..        ...       ...       ...      ...  \n",
       "173  0.130081  0.172161  0.329529        1  \n",
       "174  0.178862  0.106227  0.336662        1  \n",
       "175  0.089431  0.106227  0.397290        1  \n",
       "176  0.097561  0.128205  0.400856        1  \n",
       "177  0.105691  0.120879  0.201141        1  \n",
       "\n",
       "[172 rows x 14 columns]"
      ]
     },
     "execution_count": 32,
     "metadata": {},
     "output_type": "execute_result"
    }
   ],
   "source": [
    "KM3_clustered"
   ]
  },
  {
   "cell_type": "code",
   "execution_count": 38,
   "id": "7a7dabbc",
   "metadata": {},
   "outputs": [],
   "source": [
    "Wine['KM_Cluster'] = KM3_clustered['Cluster']"
   ]
  },
  {
   "cell_type": "code",
   "execution_count": 39,
   "id": "d7ab9026",
   "metadata": {},
   "outputs": [
    {
     "name": "stdout",
     "output_type": "stream",
     "text": [
      "<class 'pandas.core.frame.DataFrame'>\n",
      "Int64Index: 172 entries, 0 to 177\n",
      "Data columns (total 14 columns):\n",
      " #   Column                Non-Null Count  Dtype  \n",
      "---  ------                --------------  -----  \n",
      " 0   Alcohol               172 non-null    float64\n",
      " 1   Malic_Acid            172 non-null    float64\n",
      " 2   Ash                   172 non-null    float64\n",
      " 3   Ash_Alcanity          172 non-null    float64\n",
      " 4   Magnesium             172 non-null    float64\n",
      " 5   Total_Phenols         172 non-null    float64\n",
      " 6   Flavanoids            172 non-null    float64\n",
      " 7   Nonflavanoid_Phenols  172 non-null    float64\n",
      " 8   Proanthocyanins       172 non-null    float64\n",
      " 9   Color_Intensity       172 non-null    float64\n",
      " 10  Hue                   172 non-null    float64\n",
      " 11  OD280                 172 non-null    float64\n",
      " 12  Proline               172 non-null    float64\n",
      " 13  KM_Cluster            172 non-null    int32  \n",
      "dtypes: float64(13), int32(1)\n",
      "memory usage: 19.5 KB\n"
     ]
    }
   ],
   "source": [
    "Wine.info()"
   ]
  },
  {
   "cell_type": "code",
   "execution_count": 40,
   "id": "6ac3f13a",
   "metadata": {},
   "outputs": [
    {
     "data": {
      "text/plain": [
       "2    61\n",
       "0    59\n",
       "1    52\n",
       "Name: KM_Cluster, dtype: int64"
      ]
     },
     "execution_count": 40,
     "metadata": {},
     "output_type": "execute_result"
    }
   ],
   "source": [
    "Wine['KM_Cluster'].value_counts()"
   ]
  },
  {
   "cell_type": "markdown",
   "id": "787a30b6",
   "metadata": {},
   "source": [
    "# Agglomerative Clustering"
   ]
  },
  {
   "cell_type": "code",
   "execution_count": 46,
   "id": "15aceec0",
   "metadata": {},
   "outputs": [
    {
     "data": {
      "text/html": [
       "<div>\n",
       "<style scoped>\n",
       "    .dataframe tbody tr th:only-of-type {\n",
       "        vertical-align: middle;\n",
       "    }\n",
       "\n",
       "    .dataframe tbody tr th {\n",
       "        vertical-align: top;\n",
       "    }\n",
       "\n",
       "    .dataframe thead th {\n",
       "        text-align: right;\n",
       "    }\n",
       "</style>\n",
       "<table border=\"1\" class=\"dataframe\">\n",
       "  <thead>\n",
       "    <tr style=\"text-align: right;\">\n",
       "      <th></th>\n",
       "      <th>n_clusters</th>\n",
       "      <th>clusters</th>\n",
       "      <th>sil_score</th>\n",
       "    </tr>\n",
       "  </thead>\n",
       "  <tbody>\n",
       "    <tr>\n",
       "      <th>1</th>\n",
       "      <td>3.0</td>\n",
       "      <td>3.0</td>\n",
       "      <td>0.296017</td>\n",
       "    </tr>\n",
       "    <tr>\n",
       "      <th>0</th>\n",
       "      <td>2.0</td>\n",
       "      <td>2.0</td>\n",
       "      <td>0.291645</td>\n",
       "    </tr>\n",
       "    <tr>\n",
       "      <th>2</th>\n",
       "      <td>4.0</td>\n",
       "      <td>4.0</td>\n",
       "      <td>0.236418</td>\n",
       "    </tr>\n",
       "    <tr>\n",
       "      <th>5</th>\n",
       "      <td>7.0</td>\n",
       "      <td>7.0</td>\n",
       "      <td>0.201966</td>\n",
       "    </tr>\n",
       "    <tr>\n",
       "      <th>4</th>\n",
       "      <td>6.0</td>\n",
       "      <td>6.0</td>\n",
       "      <td>0.200129</td>\n",
       "    </tr>\n",
       "  </tbody>\n",
       "</table>\n",
       "</div>"
      ],
      "text/plain": [
       "   n_clusters  clusters  sil_score\n",
       "1         3.0       3.0   0.296017\n",
       "0         2.0       2.0   0.291645\n",
       "2         4.0       4.0   0.236418\n",
       "5         7.0       7.0   0.201966\n",
       "4         6.0       6.0   0.200129"
      ]
     },
     "execution_count": 46,
     "metadata": {},
     "output_type": "execute_result"
    }
   ],
   "source": [
    "df4 = Wine.drop('KM_Cluster',axis=1)\n",
    "\n",
    "# Normalize the data before fitting the model using MinMax Scaling\n",
    "scaler = MinMaxScaler() \n",
    "scaled_values = scaler.fit_transform(df4) \n",
    "df4.loc[:,:] = scaled_values\n",
    "\n",
    "# Running Agglomerative Clustering\n",
    "nr_clusters = []\n",
    "n_clusters = range(2, 10) # Range is arbitrarily chosen\n",
    "ag_sil_score = [] # silouette scores\n",
    "\n",
    "for p in n_clusters:\n",
    "    ag = AgglomerativeClustering(n_clusters=p).fit(df4)\n",
    "    nr_clusters.append((len(np.unique(ag.labels_))))\n",
    "    ag_sil_score.append(silhouette_score(df4, ag.labels_))\n",
    "    \n",
    "results = pd.DataFrame([n_clusters, nr_clusters, ag_sil_score], index=['n_clusters','clusters', 'sil_score']).T\n",
    "results.sort_values(by='sil_score', ascending=False).head() # display only 5 best scores"
   ]
  },
  {
   "cell_type": "code",
   "execution_count": 47,
   "id": "b80a4309",
   "metadata": {},
   "outputs": [
    {
     "name": "stderr",
     "output_type": "stream",
     "text": [
      "C:\\Users\\silpa\\anaconda3\\lib\\site-packages\\seaborn\\_decorators.py:36: FutureWarning: Pass the following variables as keyword args: x, y. From version 0.12, the only valid positional argument will be `data`, and passing other arguments without an explicit keyword will result in an error or misinterpretation.\n",
      "  warnings.warn(\n"
     ]
    },
    {
     "data": {
      "image/png": "[encoded data removed]",
      "text/plain": [
       "<Figure size 864x360 with 1 Axes>"
      ]
     },
     "metadata": {},
     "output_type": "display_data"
    }
   ],
   "source": [
    "fig, ax = plt.subplots(figsize=(12,5))\n",
    "ax = sns.lineplot(n_clusters, ag_sil_score, marker='o', ax=ax, linewidth=2, color='green')\n",
    "ax.set_title(\"Silhouette score trial\")\n",
    "ax.set_xlabel(\"No. of clusters\")\n",
    "ax.set_ylabel(\"Silhouette score\")\n",
    "ax.axvline(3, ls=\"--\", c=\"red\")\n",
    "plt.grid()\n",
    "plt.show()"
   ]
  },
  {
   "cell_type": "code",
   "execution_count": 48,
   "id": "48808bf8",
   "metadata": {},
   "outputs": [
    {
     "data": {
      "text/html": [
       "<div>\n",
       "<style scoped>\n",
       "    .dataframe tbody tr th:only-of-type {\n",
       "        vertical-align: middle;\n",
       "    }\n",
       "\n",
       "    .dataframe tbody tr th {\n",
       "        vertical-align: top;\n",
       "    }\n",
       "\n",
       "    .dataframe thead th {\n",
       "        text-align: right;\n",
       "    }\n",
       "</style>\n",
       "<table border=\"1\" class=\"dataframe\">\n",
       "  <thead>\n",
       "    <tr style=\"text-align: right;\">\n",
       "      <th></th>\n",
       "      <th>Agglomerative Cluster size</th>\n",
       "    </tr>\n",
       "    <tr>\n",
       "      <th>AgCluster</th>\n",
       "      <th></th>\n",
       "    </tr>\n",
       "  </thead>\n",
       "  <tbody>\n",
       "    <tr>\n",
       "      <th>0</th>\n",
       "      <td>56</td>\n",
       "    </tr>\n",
       "    <tr>\n",
       "      <th>1</th>\n",
       "      <td>59</td>\n",
       "    </tr>\n",
       "    <tr>\n",
       "      <th>2</th>\n",
       "      <td>57</td>\n",
       "    </tr>\n",
       "  </tbody>\n",
       "</table>\n",
       "</div>"
      ],
      "text/plain": [
       "           Agglomerative Cluster size\n",
       "AgCluster                            \n",
       "0                                  56\n",
       "1                                  59\n",
       "2                                  57"
      ]
     },
     "execution_count": 48,
     "metadata": {},
     "output_type": "execute_result"
    }
   ],
   "source": [
    "# To fit the model using agglomerative clustering\n",
    "ag = AgglomerativeClustering(n_clusters=3).fit(df4)\n",
    "ag_clustered = df4.copy()\n",
    "ag_clustered.loc[:,'AgCluster'] = ag.labels_ # append labels to points\n",
    "ag_clust_sizes = ag_clustered.groupby('AgCluster').size().to_frame()\n",
    "ag_clust_sizes.columns = [\"Agglomerative Cluster size\"]\n",
    "ag_clust_sizes"
   ]
  },
  {
   "cell_type": "markdown",
   "id": "29fd4af5",
   "metadata": {},
   "source": [
    "# Provide the dataset using both Kmeans and agglomerative clustering models "
   ]
  },
  {
   "cell_type": "code",
   "execution_count": 49,
   "id": "e8edb462",
   "metadata": {},
   "outputs": [],
   "source": [
    "Wine['KMean_Cluster'] = KM3_clustered['Cluster']\n",
    "Wine['Agm_Cluster'] = ag_clustered['AgCluster']"
   ]
  },
  {
   "cell_type": "code",
   "execution_count": 50,
   "id": "ed42b4fa",
   "metadata": {},
   "outputs": [],
   "source": [
    "Cluster_Check = Wine[['KMean_Cluster', 'Agm_Cluster']]"
   ]
  },
  {
   "cell_type": "code",
   "execution_count": 54,
   "id": "f8357896",
   "metadata": {},
   "outputs": [
    {
     "data": {
      "text/html": [
       "<div>\n",
       "<style scoped>\n",
       "    .dataframe tbody tr th:only-of-type {\n",
       "        vertical-align: middle;\n",
       "    }\n",
       "\n",
       "    .dataframe tbody tr th {\n",
       "        vertical-align: top;\n",
       "    }\n",
       "\n",
       "    .dataframe thead th {\n",
       "        text-align: right;\n",
       "    }\n",
       "</style>\n",
       "<table border=\"1\" class=\"dataframe\">\n",
       "  <thead>\n",
       "    <tr style=\"text-align: right;\">\n",
       "      <th></th>\n",
       "      <th>KMean_Cluster</th>\n",
       "      <th>Agm_Cluster</th>\n",
       "    </tr>\n",
       "  </thead>\n",
       "  <tbody>\n",
       "    <tr>\n",
       "      <th>0</th>\n",
       "      <td>0</td>\n",
       "      <td>2</td>\n",
       "    </tr>\n",
       "    <tr>\n",
       "      <th>1</th>\n",
       "      <td>0</td>\n",
       "      <td>2</td>\n",
       "    </tr>\n",
       "    <tr>\n",
       "      <th>2</th>\n",
       "      <td>0</td>\n",
       "      <td>2</td>\n",
       "    </tr>\n",
       "    <tr>\n",
       "      <th>3</th>\n",
       "      <td>0</td>\n",
       "      <td>2</td>\n",
       "    </tr>\n",
       "    <tr>\n",
       "      <th>4</th>\n",
       "      <td>0</td>\n",
       "      <td>1</td>\n",
       "    </tr>\n",
       "    <tr>\n",
       "      <th>...</th>\n",
       "      <td>...</td>\n",
       "      <td>...</td>\n",
       "    </tr>\n",
       "    <tr>\n",
       "      <th>71</th>\n",
       "      <td>2</td>\n",
       "      <td>1</td>\n",
       "    </tr>\n",
       "    <tr>\n",
       "      <th>72</th>\n",
       "      <td>2</td>\n",
       "      <td>1</td>\n",
       "    </tr>\n",
       "    <tr>\n",
       "      <th>74</th>\n",
       "      <td>2</td>\n",
       "      <td>1</td>\n",
       "    </tr>\n",
       "    <tr>\n",
       "      <th>75</th>\n",
       "      <td>2</td>\n",
       "      <td>1</td>\n",
       "    </tr>\n",
       "    <tr>\n",
       "      <th>76</th>\n",
       "      <td>2</td>\n",
       "      <td>1</td>\n",
       "    </tr>\n",
       "  </tbody>\n",
       "</table>\n",
       "<p>75 rows × 2 columns</p>\n",
       "</div>"
      ],
      "text/plain": [
       "    KMean_Cluster  Agm_Cluster\n",
       "0               0            2\n",
       "1               0            2\n",
       "2               0            2\n",
       "3               0            2\n",
       "4               0            1\n",
       "..            ...          ...\n",
       "71              2            1\n",
       "72              2            1\n",
       "74              2            1\n",
       "75              2            1\n",
       "76              2            1\n",
       "\n",
       "[75 rows x 2 columns]"
      ]
     },
     "execution_count": 54,
     "metadata": {},
     "output_type": "execute_result"
    }
   ],
   "source": [
    "Cluster_Check.head(75)"
   ]
  },
  {
   "cell_type": "code",
   "execution_count": 58,
   "id": "5c52ed5f",
   "metadata": {},
   "outputs": [],
   "source": [
    "Wine['Cluster-Match'] = np.where( ( (Wine['KMean_Cluster'] == 1) & (Wine['Agm_Cluster'] == 0 ) ) |\n",
    "                                 ( ((Wine['KMean_Cluster'] == 0) & (Wine['Agm_Cluster'] == 2 )) ) |\n",
    "                                 ( ((Wine['KMean_Cluster'] == 2) & (Wine['Agm_Cluster'] == 1 )) ) , 'Matched', 'No Match')\n"
   ]
  },
  {
   "cell_type": "code",
   "execution_count": 59,
   "id": "4ead545e",
   "metadata": {},
   "outputs": [
    {
     "data": {
      "text/plain": [
       "0       Matched\n",
       "1       Matched\n",
       "2       Matched\n",
       "3       Matched\n",
       "4      No Match\n",
       "         ...   \n",
       "173     Matched\n",
       "174     Matched\n",
       "175     Matched\n",
       "176     Matched\n",
       "177     Matched\n",
       "Name: Cluster-Match, Length: 172, dtype: object"
      ]
     },
     "execution_count": 59,
     "metadata": {},
     "output_type": "execute_result"
    }
   ],
   "source": [
    "Wine['Cluster-Match']"
   ]
  },
  {
   "cell_type": "code",
   "execution_count": 60,
   "id": "ff9891a6",
   "metadata": {},
   "outputs": [
    {
     "data": {
      "text/plain": [
       "Matched     166\n",
       "No Match      6\n",
       "Name: Cluster-Match, dtype: int64"
      ]
     },
     "execution_count": 60,
     "metadata": {},
     "output_type": "execute_result"
    }
   ],
   "source": [
    "Wine['Cluster-Match'].value_counts()"
   ]
  },
  {
   "cell_type": "markdown",
   "id": "015f40ce",
   "metadata": {},
   "source": [
    "# Only 6 predictions out of 172 have differences in the predicted clusters for KMeans and Agglomerative clustering "
   ]
  },
  {
   "cell_type": "markdown",
   "id": "d87164e9",
   "metadata": {},
   "source": [
    "# But the other methods can be tried on and further fine tuned so that the cluster predictions are more accurate"
   ]
  },
  {
   "cell_type": "code",
   "execution_count": null,
   "id": "ea1df543",
   "metadata": {},
   "outputs": [],
   "source": [
    "# Submitted by Viswaraj Chandran"
   ]
  }
 ],
 "metadata": {
  "kernelspec": {
   "display_name": "Python 3 (ipykernel)",
   "language": "python",
   "name": "python3"
  },
  "language_info": {
   "codemirror_mode": {
    "name": "ipython",
    "version": 3
   },
   "file_extension": ".py",
   "mimetype": "text/x-python",
   "name": "python",
   "nbconvert_exporter": "python",
   "pygments_lexer": "ipython3",
   "version": "3.9.7"
  }
 },
 "nbformat": 4,
 "nbformat_minor": 5
}
